{
 "cells": [
  {
   "cell_type": "code",
   "execution_count": 88,
   "id": "64a203bf",
   "metadata": {},
   "outputs": [],
   "source": [
    "class Empty(Exception):\n",
    "    pass\n",
    "\n",
    "class LinkedList:\n",
    "    class Node:\n",
    "        def __init__(self, value, nextNode=None):\n",
    "            self.value = value\n",
    "            self.nextNode = nextNode\n",
    "    \n",
    "    def __init__(self):\n",
    "        self.head = None\n",
    "        self.tail = None\n",
    "        self.size = 0\n",
    "        \n",
    "    def __str__(self):\n",
    "        result = \"\"\n",
    "        current = self.head\n",
    "        while current:\n",
    "            result += str(current.value) + \" \"\n",
    "            current = current.nextNode\n",
    "        return result\n",
    "        \n",
    "    def addFirst(self, value):\n",
    "        node = self.Node(value)\n",
    "        if self.size == 0:\n",
    "            self.head = self.tail = node\n",
    "        else:\n",
    "            node.nextNode = self.head\n",
    "        self.head = node\n",
    "        self.size +=1 \n",
    "        \n",
    "    def addLast(self, value):\n",
    "        node = self.Node(value)\n",
    "        if self.size == 0:\n",
    "            self.head = self.tail = node\n",
    "        else:\n",
    "            self.tail.nextNode = node\n",
    "        self.tail = node\n",
    "        self.size += 1\n",
    "        \n",
    "    def removeFirst(self):\n",
    "        if self.size == 0:\n",
    "            raise Empty('no element')\n",
    "        self.head = self.head.nextNode\n",
    "        self.size -= 1\n",
    "        \n",
    "    def getPrevious(self, node):\n",
    "        current = self.head\n",
    "        while current:\n",
    "            if current.nextNode is node:\n",
    "                return current\n",
    "            current = current.nextNode\n",
    "        return None\n",
    "        \n",
    "    def removeLast(self):\n",
    "        if self.size == 0:\n",
    "            raise Empty('no element')\n",
    "        previous = self.getPrevious(self.tail)\n",
    "        self.tail = previous\n",
    "        self.tail.nextNode = None\n",
    "        self.size -=1 \n",
    "        \n",
    "        "
   ]
  },
  {
   "cell_type": "code",
   "execution_count": 89,
   "id": "e3ed23af",
   "metadata": {},
   "outputs": [],
   "source": [
    "ll = LinkedList()\n",
    "ll.addFirst(10)\n",
    "ll.addFirst(7)\n",
    "ll.addFirst(6)\n",
    "ll.addLast(17)\n",
    "ll.addLast(23)"
   ]
  },
  {
   "cell_type": "code",
   "execution_count": 90,
   "id": "beace359",
   "metadata": {},
   "outputs": [
    {
     "name": "stdout",
     "output_type": "stream",
     "text": [
      "6 7 10 17 23 \n"
     ]
    }
   ],
   "source": [
    "print(ll)"
   ]
  },
  {
   "cell_type": "code",
   "execution_count": 95,
   "id": "2911fe97",
   "metadata": {},
   "outputs": [
    {
     "ename": "AttributeError",
     "evalue": "'NoneType' object has no attribute 'nextNode'",
     "output_type": "error",
     "traceback": [
      "\u001b[0;31m---------------------------------------------------------------------------\u001b[0m",
      "\u001b[0;31mAttributeError\u001b[0m                            Traceback (most recent call last)",
      "\u001b[0;32m/var/folders/6_/72vswxkj0b79fz16yzqr9fkc0000gn/T/ipykernel_55879/3500627894.py\u001b[0m in \u001b[0;36m<module>\u001b[0;34m\u001b[0m\n\u001b[0;32m----> 1\u001b[0;31m \u001b[0mll\u001b[0m\u001b[0;34m.\u001b[0m\u001b[0mremoveLast\u001b[0m\u001b[0;34m(\u001b[0m\u001b[0;34m)\u001b[0m\u001b[0;34m\u001b[0m\u001b[0;34m\u001b[0m\u001b[0m\n\u001b[0m\u001b[1;32m      2\u001b[0m \u001b[0mprint\u001b[0m\u001b[0;34m(\u001b[0m\u001b[0mll\u001b[0m\u001b[0;34m)\u001b[0m\u001b[0;34m\u001b[0m\u001b[0;34m\u001b[0m\u001b[0m\n",
      "\u001b[0;32m/var/folders/6_/72vswxkj0b79fz16yzqr9fkc0000gn/T/ipykernel_55879/670594864.py\u001b[0m in \u001b[0;36mremoveLast\u001b[0;34m(self)\u001b[0m\n\u001b[1;32m     58\u001b[0m         \u001b[0mprevious\u001b[0m \u001b[0;34m=\u001b[0m \u001b[0mself\u001b[0m\u001b[0;34m.\u001b[0m\u001b[0mgetPrevious\u001b[0m\u001b[0;34m(\u001b[0m\u001b[0mself\u001b[0m\u001b[0;34m.\u001b[0m\u001b[0mtail\u001b[0m\u001b[0;34m)\u001b[0m\u001b[0;34m\u001b[0m\u001b[0;34m\u001b[0m\u001b[0m\n\u001b[1;32m     59\u001b[0m         \u001b[0mself\u001b[0m\u001b[0;34m.\u001b[0m\u001b[0mtail\u001b[0m \u001b[0;34m=\u001b[0m \u001b[0mprevious\u001b[0m\u001b[0;34m\u001b[0m\u001b[0;34m\u001b[0m\u001b[0m\n\u001b[0;32m---> 60\u001b[0;31m         \u001b[0mself\u001b[0m\u001b[0;34m.\u001b[0m\u001b[0mtail\u001b[0m\u001b[0;34m.\u001b[0m\u001b[0mnextNode\u001b[0m \u001b[0;34m=\u001b[0m \u001b[0;32mNone\u001b[0m\u001b[0;34m\u001b[0m\u001b[0;34m\u001b[0m\u001b[0m\n\u001b[0m\u001b[1;32m     61\u001b[0m         \u001b[0mself\u001b[0m\u001b[0;34m.\u001b[0m\u001b[0msize\u001b[0m \u001b[0;34m-=\u001b[0m\u001b[0;36m1\u001b[0m\u001b[0;34m\u001b[0m\u001b[0;34m\u001b[0m\u001b[0m\n\u001b[1;32m     62\u001b[0m \u001b[0;34m\u001b[0m\u001b[0m\n",
      "\u001b[0;31mAttributeError\u001b[0m: 'NoneType' object has no attribute 'nextNode'"
     ]
    }
   ],
   "source": [
    "ll.removeLast()\n",
    "print(ll)"
   ]
  },
  {
   "cell_type": "code",
   "execution_count": null,
   "id": "9209129e",
   "metadata": {},
   "outputs": [],
   "source": []
  }
 ],
 "metadata": {
  "kernelspec": {
   "display_name": "Python 3.9.7 64-bit ('base': conda)",
   "language": "python",
   "name": "python397jvsc74a57bd0f334e1cc5b808cc4b5ec8860e8527185ef2558a4ad98dfd5e7b002af50a765e8"
  },
  "language_info": {
   "codemirror_mode": {
    "name": "ipython",
    "version": 3
   },
   "file_extension": ".py",
   "mimetype": "text/x-python",
   "name": "python",
   "nbconvert_exporter": "python",
   "pygments_lexer": "ipython3",
   "version": "3.9.7"
  }
 },
 "nbformat": 4,
 "nbformat_minor": 5
}

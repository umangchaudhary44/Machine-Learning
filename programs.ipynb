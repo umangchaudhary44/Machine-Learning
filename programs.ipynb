{
 "cells": [
  {
   "cell_type": "markdown",
   "id": "3b857028",
   "metadata": {},
   "source": [
    "# Basic python programs"
   ]
  },
  {
   "cell_type": "code",
   "execution_count": 19,
   "id": "aabaf873",
   "metadata": {},
   "outputs": [
    {
     "name": "stdout",
     "output_type": "stream",
     "text": [
      "10\n",
      "20\n"
     ]
    }
   ],
   "source": [
    "def secondLargest(lst):\n",
    "    if len(lst) < 1:\n",
    "        return \"invalid data\"\n",
    "    lst.sort()\n",
    "    for i in range(len(lst) -2):\n",
    "        return lst[len(lst) - 2]\n",
    "\n",
    "\n",
    "print(secondLargest([10, 20, 4]))\n",
    "print(secondLargest([20, 10, 20, 4, 100]))"
   ]
  },
  {
   "cell_type": "code",
   "execution_count": 18,
   "id": "cb00dbb9",
   "metadata": {},
   "outputs": [
    {
     "name": "stdout",
     "output_type": "stream",
     "text": [
      "[5, 6, 3, 9, [1], [101, 102]]\n"
     ]
    }
   ],
   "source": [
    "def removeEmptyList(lst):\n",
    "    result = []\n",
    "    for i in lst:\n",
    "        if isinstance(i, list) and len(i) == 0:\n",
    "            continue\n",
    "        result.append(i)\n",
    "    return result\n",
    "\n",
    "print(removeEmptyList([5, 6, [], 3, [], [], 9, [1], [101, 102]]))"
   ]
  },
  {
   "cell_type": "code",
   "execution_count": 17,
   "id": "ee836379",
   "metadata": {},
   "outputs": [
    {
     "name": "stdout",
     "output_type": "stream",
     "text": [
      "output {'Hello': 2, 'how': 1, 'are': 1, 'you?': 1, \"i'm\": 1, 'good': 1}\n"
     ]
    }
   ],
   "source": [
    "def wordFreq(string):\n",
    "    result = {}\n",
    "    for i in string.split():\n",
    "        result[i] = string.count(i)\n",
    "    return result\n",
    "\n",
    "text =  \"Hello how are you? Hello i'm good\"\n",
    "print('output', wordFreq(text))"
   ]
  },
  {
   "cell_type": "code",
   "execution_count": 1,
   "id": "10b7c8dc",
   "metadata": {},
   "outputs": [
    {
     "name": "stdout",
     "output_type": "stream",
     "text": [
      "*\n",
      "**\n",
      "***\n",
      "****\n",
      "*****\n"
     ]
    }
   ],
   "source": [
    "for i in range(1, 6):\n",
    "    for j in range(1, i+1):\n",
    "        print('*', end='')\n",
    "    print()"
   ]
  },
  {
   "cell_type": "code",
   "execution_count": 2,
   "id": "dc74140e",
   "metadata": {},
   "outputs": [
    {
     "name": "stdout",
     "output_type": "stream",
     "text": [
      "1\n",
      "12\n",
      "123\n",
      "1234\n",
      "12345\n"
     ]
    }
   ],
   "source": [
    "for i in range(1, 6):\n",
    "    for j in range(1, i+1):\n",
    "        print(j, end='')\n",
    "    print()"
   ]
  },
  {
   "cell_type": "code",
   "execution_count": 3,
   "id": "2f03beab",
   "metadata": {},
   "outputs": [
    {
     "name": "stdout",
     "output_type": "stream",
     "text": [
      "12345\n",
      "1234\n",
      "123\n",
      "12\n",
      "1\n"
     ]
    }
   ],
   "source": [
    "for i in range(6,1, -1):\n",
    "    for j in range(1, i):\n",
    "        print(j, end='')\n",
    "    print()"
   ]
  },
  {
   "cell_type": "code",
   "execution_count": 4,
   "id": "bbf63354",
   "metadata": {},
   "outputs": [
    {
     "name": "stdout",
     "output_type": "stream",
     "text": [
      "*****\n",
      "****\n",
      "***\n",
      "**\n",
      "*\n"
     ]
    }
   ],
   "source": [
    "for i in range(6,1, -1):\n",
    "    for j in range(1, i):\n",
    "        print('*', end='')\n",
    "    print()"
   ]
  },
  {
   "cell_type": "code",
   "execution_count": 5,
   "id": "c9f33e89",
   "metadata": {},
   "outputs": [
    {
     "name": "stdout",
     "output_type": "stream",
     "text": [
      "1\n",
      "11\n",
      "121\n",
      "1331\n",
      "14641\n"
     ]
    }
   ],
   "source": [
    "for i in range(0, 5):\n",
    "    print(11**i)"
   ]
  },
  {
   "cell_type": "code",
   "execution_count": 6,
   "id": "7a4159f7",
   "metadata": {},
   "outputs": [
    {
     "name": "stdout",
     "output_type": "stream",
     "text": [
      "****\n",
      "****\n",
      "****\n"
     ]
    }
   ],
   "source": [
    "for i in range(3):\n",
    "    for j in range(4):\n",
    "        print('*', end='')\n",
    "    print()"
   ]
  },
  {
   "cell_type": "code",
   "execution_count": 7,
   "id": "6bb5663c",
   "metadata": {},
   "outputs": [
    {
     "name": "stdout",
     "output_type": "stream",
     "text": [
      "    \n",
      "   * \n",
      "  * * \n",
      " * * * \n",
      "* * * * \n"
     ]
    }
   ],
   "source": [
    "n  = 5\n",
    "k = n - 1\n",
    "for i in range(0, n):\n",
    "    for j in range(0, k):\n",
    "        print(end=\" \")\n",
    "    k -= 1\n",
    "    for j in range(0, i):\n",
    "        print('* ', end='')\n",
    "    print()"
   ]
  },
  {
   "cell_type": "markdown",
   "id": "67e44819",
   "metadata": {},
   "source": [
    "### Extract Unique values dictionary values \n",
    "\n",
    "Input : {‘gfg’: [5, 6, 7, 8], ‘best’: [6, 12, 10, 8], ‘is’: [10, 11, 7, 5], ‘for’: [1, 2, 5]}\n",
    "\n",
    "\n",
    "Output :[1, 2, 5, 6, 7, 8, 10, 11, 12]\n",
    "\n"
   ]
  },
  {
   "cell_type": "code",
   "execution_count": 9,
   "id": "4d9b7138",
   "metadata": {},
   "outputs": [
    {
     "data": {
      "text/plain": [
       "{'gfg': [5, 6, 7, 8],\n",
       " 'best': [6, 12, 10, 8],\n",
       " 'is': [10, 11, 7, 5],\n",
       " 'for': [1, 2, 5]}"
      ]
     },
     "execution_count": 9,
     "metadata": {},
     "output_type": "execute_result"
    }
   ],
   "source": [
    "dic = {'gfg': [5, 6, 7, 8], 'best': [6, 12, 10, 8], 'is': [10, 11, 7, 5], 'for': [1, 2, 5]}\n",
    "dic"
   ]
  },
  {
   "cell_type": "code",
   "execution_count": 10,
   "id": "af02169c",
   "metadata": {},
   "outputs": [
    {
     "name": "stdout",
     "output_type": "stream",
     "text": [
      "{1, 2, 5, 6, 7, 8, 10, 11, 12}\n"
     ]
    }
   ],
   "source": [
    "result = set()\n",
    "for k, v in dic.items():\n",
    "    for ev in v:\n",
    "        result.add(ev)\n",
    "print(result)"
   ]
  },
  {
   "cell_type": "code",
   "execution_count": 11,
   "id": "7b0c34fc",
   "metadata": {},
   "outputs": [
    {
     "data": {
      "text/plain": [
       "{1, 2, 5, 6, 7, 8, 10, 11, 12}"
      ]
     },
     "execution_count": 11,
     "metadata": {},
     "output_type": "execute_result"
    }
   ],
   "source": [
    "set([x for key, value in dic.items() for x in value]) # in one line"
   ]
  },
  {
   "cell_type": "code",
   "execution_count": 12,
   "id": "8917664a",
   "metadata": {},
   "outputs": [
    {
     "data": {
      "text/plain": [
       "{6, 7, 8, 10, 11, 12}"
      ]
     },
     "execution_count": 12,
     "metadata": {},
     "output_type": "execute_result"
    }
   ],
   "source": [
    "set([x for key, value in dic.items() for x in value if x > 5]) # value greater than 5"
   ]
  },
  {
   "cell_type": "code",
   "execution_count": 13,
   "id": "f7a293ee",
   "metadata": {},
   "outputs": [
    {
     "data": {
      "text/plain": [
       "True"
      ]
     },
     "execution_count": 13,
     "metadata": {},
     "output_type": "execute_result"
    }
   ],
   "source": [
    "# https://www.javatpoint.com/armstrong-number-in-c\n",
    "def armno(no):\n",
    "    valid = no\n",
    "    total = 0\n",
    "    while no >= 1:\n",
    "        a = no % 10\n",
    "        total += a ** 3\n",
    "        no = int(no / 10)\n",
    "    return total == valid\n",
    "armno(153)"
   ]
  },
  {
   "cell_type": "code",
   "execution_count": 14,
   "id": "b8531055",
   "metadata": {},
   "outputs": [
    {
     "name": "stdout",
     "output_type": "stream",
     "text": [
      "[[1, 2, 3]]\n"
     ]
    }
   ],
   "source": [
    "lst = [3, 48, 6, 1, 1, 1, 2, 3, 8, 4, 9, 3, 3, 3]\n",
    "\n",
    "def repeatThree(lst):\n",
    "    result = []\n",
    "    for i in range(len(lst) - 2):\n",
    "        if lst[i] == lst[i + 1] - 1 == lst[i + 2] -2:\n",
    "            result.append([lst[i], lst[i+1], lst[i+2]])\n",
    "    return result\n",
    "\n",
    "print(repeatThree(lst))"
   ]
  },
  {
   "cell_type": "code",
   "execution_count": 15,
   "id": "f6886830",
   "metadata": {},
   "outputs": [
    {
     "name": "stdout",
     "output_type": "stream",
     "text": [
      "[[1, 1, 1], [3, 3, 3]]\n"
     ]
    }
   ],
   "source": [
    "def seq(lst):\n",
    "    result = []\n",
    "    for i in range(len(lst) - 2):\n",
    "        if lst[i] == lst[i + 1] == lst[i + 2]:\n",
    "            result.append([lst[i], lst[i+1], lst[i+2]])\n",
    "    return result\n",
    "\n",
    "print(seq(lst))"
   ]
  },
  {
   "cell_type": "code",
   "execution_count": 16,
   "id": "fd394520",
   "metadata": {},
   "outputs": [
    {
     "name": "stdout",
     "output_type": "stream",
     "text": [
      "all possible combination:\n",
      " [[3, 15], [5, 9], [9, 5], [15, 3]]\n",
      "consecutive list of number: None\n"
     ]
    },
    {
     "data": {
      "text/plain": [
       "False"
      ]
     },
     "execution_count": 16,
     "metadata": {},
     "output_type": "execute_result"
    }
   ],
   "source": [
    "# Pronic Number\n",
    "def seqN(lst):\n",
    "    \"\"\"\n",
    "    returns the list which have consecutive number.\n",
    "    \"\"\"\n",
    "    for i in lst:\n",
    "        if abs(i[0] - i[1]) == 1:\n",
    "            return i\n",
    "    return None\n",
    "\n",
    "def pronicNo(no):\n",
    "    possibleCombi = []\n",
    "    for i in range(no):\n",
    "        for j in range(no):\n",
    "            if i * j == no:\n",
    "                possibleCombi.append([i, j])\n",
    "    print('all possible combination:\\n', possibleCombi)\n",
    "    result = seqN(possibleCombi)\n",
    "    print('consecutive list of number:', result)\n",
    "    if result: # \n",
    "        return True\n",
    "    return False\n",
    "\n",
    "pronicNo(45)"
   ]
  },
  {
   "cell_type": "code",
   "execution_count": null,
   "id": "5c493abe",
   "metadata": {},
   "outputs": [],
   "source": [
    "# from the given number generate the list of pronic number .\n",
    "\n",
    "def isSeq(lst):\n",
    "    \n",
    "    \n",
    "def generatePronic(limit):\n",
    "    possibleCombination = []\n",
    "    for i in range(limit):\n",
    "        for j in range(limit):\n",
    "            if i * j == limit:\n",
    "                possibleCombination.append([i, j])\n",
    "    "
   ]
  }
 ],
 "metadata": {
  "kernelspec": {
   "display_name": "Python 3.9.7 64-bit ('base': conda)",
   "language": "python",
   "name": "python397jvsc74a57bd0f334e1cc5b808cc4b5ec8860e8527185ef2558a4ad98dfd5e7b002af50a765e8"
  },
  "language_info": {
   "codemirror_mode": {
    "name": "ipython",
    "version": 3
   },
   "file_extension": ".py",
   "mimetype": "text/x-python",
   "name": "python",
   "nbconvert_exporter": "python",
   "pygments_lexer": "ipython3",
   "version": "3.9.7"
  }
 },
 "nbformat": 4,
 "nbformat_minor": 5
}
